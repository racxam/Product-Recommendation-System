{
 "cells": [
  {
   "cell_type": "code",
   "execution_count": 1,
   "id": "6cc52ce7",
   "metadata": {},
   "outputs": [],
   "source": [
    "import numpy as num\n",
    "import pandas as pd\n",
    "import matplotlib.pyplot as plt\n",
    "plt.style.use(\"ggplot\")\n",
    "import sklearn\n",
    "from sklearn.decomposition import TruncatedSVD"
   ]
  },
  {
   "cell_type": "code",
   "execution_count": 2,
   "id": "182d7457",
   "metadata": {},
   "outputs": [],
   "source": [
    "f_rat=pd.read_csv('fdatafile.csv')"
   ]
  },
  {
   "cell_type": "code",
   "execution_count": 3,
   "id": "8d00d0e7",
   "metadata": {},
   "outputs": [
    {
     "data": {
      "text/plain": [
       "UserId       False\n",
       "ProductId    False\n",
       "Rating       False\n",
       "Timestamp    False\n",
       "dtype: bool"
      ]
     },
     "execution_count": 3,
     "metadata": {},
     "output_type": "execute_result"
    }
   ],
   "source": [
    "f_rat.isna().any()"
   ]
  },
  {
   "cell_type": "code",
   "execution_count": 4,
   "id": "7e7c158f",
   "metadata": {},
   "outputs": [
    {
     "name": "stdout",
     "output_type": "stream",
     "text": [
      "\u001b[H\u001b[2J"
     ]
    }
   ],
   "source": [
    "clear"
   ]
  },
  {
   "cell_type": "code",
   "execution_count": 5,
   "id": "777bb44e",
   "metadata": {},
   "outputs": [],
   "source": [
    "f_rat=f_rat.dropna()"
   ]
  },
  {
   "cell_type": "code",
   "execution_count": 6,
   "id": "8f865d6a",
   "metadata": {},
   "outputs": [
    {
     "data": {
      "text/html": [
       "<div>\n",
       "<style scoped>\n",
       "    .dataframe tbody tr th:only-of-type {\n",
       "        vertical-align: middle;\n",
       "    }\n",
       "\n",
       "    .dataframe tbody tr th {\n",
       "        vertical-align: top;\n",
       "    }\n",
       "\n",
       "    .dataframe thead th {\n",
       "        text-align: right;\n",
       "    }\n",
       "</style>\n",
       "<table border=\"1\" class=\"dataframe\">\n",
       "  <thead>\n",
       "    <tr style=\"text-align: right;\">\n",
       "      <th></th>\n",
       "      <th>UserId</th>\n",
       "      <th>ProductId</th>\n",
       "      <th>Rating</th>\n",
       "      <th>Timestamp</th>\n",
       "    </tr>\n",
       "  </thead>\n",
       "  <tbody>\n",
       "    <tr>\n",
       "      <th>2023036</th>\n",
       "      <td>A2KMP4LQ5FB7PW</td>\n",
       "      <td>B00LLPT4HI</td>\n",
       "      <td>5.0</td>\n",
       "      <td>1405641600</td>\n",
       "    </tr>\n",
       "    <tr>\n",
       "      <th>2023037</th>\n",
       "      <td>A1BKT6LV2SEN28</td>\n",
       "      <td>B00LLPT4HI</td>\n",
       "      <td>5.0</td>\n",
       "      <td>1406073600</td>\n",
       "    </tr>\n",
       "    <tr>\n",
       "      <th>2023038</th>\n",
       "      <td>A35Q0RBM3YNQNF</td>\n",
       "      <td>B00LLPT4HI</td>\n",
       "      <td>5.0</td>\n",
       "      <td>1405468800</td>\n",
       "    </tr>\n",
       "    <tr>\n",
       "      <th>2023039</th>\n",
       "      <td>A2NYK9KWFMJV4Y</td>\n",
       "      <td>B00LLPT4HI</td>\n",
       "      <td>5.0</td>\n",
       "      <td>1405382400</td>\n",
       "    </tr>\n",
       "    <tr>\n",
       "      <th>2023040</th>\n",
       "      <td>A14XVBP38Z8HIY</td>\n",
       "      <td>B00LLPT4HI</td>\n",
       "      <td>5.0</td>\n",
       "      <td>1405555200</td>\n",
       "    </tr>\n",
       "    <tr>\n",
       "      <th>2023041</th>\n",
       "      <td>A3JJ53IS8XISMT</td>\n",
       "      <td>B00LLPT4HI</td>\n",
       "      <td>5.0</td>\n",
       "      <td>1405900800</td>\n",
       "    </tr>\n",
       "    <tr>\n",
       "      <th>2023042</th>\n",
       "      <td>A3LGT6UZL99IW1</td>\n",
       "      <td>B00LLPT4HI</td>\n",
       "      <td>5.0</td>\n",
       "      <td>1405382400</td>\n",
       "    </tr>\n",
       "    <tr>\n",
       "      <th>2023043</th>\n",
       "      <td>ASKZO80Z1RKTR</td>\n",
       "      <td>B00LLPT4HI</td>\n",
       "      <td>5.0</td>\n",
       "      <td>1405209600</td>\n",
       "    </tr>\n",
       "    <tr>\n",
       "      <th>2023044</th>\n",
       "      <td>A1A7EBY8XJ46PA</td>\n",
       "      <td>B00LLPT4HI</td>\n",
       "      <td>5.0</td>\n",
       "      <td>1405728000</td>\n",
       "    </tr>\n",
       "    <tr>\n",
       "      <th>2023045</th>\n",
       "      <td>A1HQ0KTGWQIWYI</td>\n",
       "      <td>B00LLPT4HI</td>\n",
       "      <td>5.0</td>\n",
       "      <td>1405900800</td>\n",
       "    </tr>\n",
       "    <tr>\n",
       "      <th>2023046</th>\n",
       "      <td>A3UJRNI8UR4871</td>\n",
       "      <td>B00LLPT4HI</td>\n",
       "      <td>5.0</td>\n",
       "      <td>1405987200</td>\n",
       "    </tr>\n",
       "    <tr>\n",
       "      <th>2023047</th>\n",
       "      <td>AZ9JPUSCI0V49</td>\n",
       "      <td>B00LMOT7X4</td>\n",
       "      <td>3.0</td>\n",
       "      <td>1404950400</td>\n",
       "    </tr>\n",
       "    <tr>\n",
       "      <th>2023048</th>\n",
       "      <td>A3DEHKPFANB8VA</td>\n",
       "      <td>B00LMWUR9O</td>\n",
       "      <td>5.0</td>\n",
       "      <td>1405555200</td>\n",
       "    </tr>\n",
       "    <tr>\n",
       "      <th>2023049</th>\n",
       "      <td>A30JSH9DQY3PB0</td>\n",
       "      <td>B00LMXHR1Y</td>\n",
       "      <td>5.0</td>\n",
       "      <td>1404950400</td>\n",
       "    </tr>\n",
       "    <tr>\n",
       "      <th>2023050</th>\n",
       "      <td>A3DEHKPFANB8VA</td>\n",
       "      <td>B00LMXHR1Y</td>\n",
       "      <td>5.0</td>\n",
       "      <td>1405296000</td>\n",
       "    </tr>\n",
       "    <tr>\n",
       "      <th>2023051</th>\n",
       "      <td>AU8FV7C2UFVKR</td>\n",
       "      <td>B00LNOKBYW</td>\n",
       "      <td>5.0</td>\n",
       "      <td>1405468800</td>\n",
       "    </tr>\n",
       "    <tr>\n",
       "      <th>2023052</th>\n",
       "      <td>A1K3QII0DFSTV2</td>\n",
       "      <td>B00LNOKBYW</td>\n",
       "      <td>5.0</td>\n",
       "      <td>1405728000</td>\n",
       "    </tr>\n",
       "    <tr>\n",
       "      <th>2023053</th>\n",
       "      <td>A2UEVIIDLL6J4L</td>\n",
       "      <td>B00LNOKBYW</td>\n",
       "      <td>5.0</td>\n",
       "      <td>1405900800</td>\n",
       "    </tr>\n",
       "    <tr>\n",
       "      <th>2023054</th>\n",
       "      <td>ADQ41IJPQW2TN</td>\n",
       "      <td>B00LNOKBYW</td>\n",
       "      <td>5.0</td>\n",
       "      <td>1405728000</td>\n",
       "    </tr>\n",
       "    <tr>\n",
       "      <th>2023055</th>\n",
       "      <td>A1NQACPQ21C8AX</td>\n",
       "      <td>B00LNOKBYW</td>\n",
       "      <td>5.0</td>\n",
       "      <td>1405728000</td>\n",
       "    </tr>\n",
       "    <tr>\n",
       "      <th>2023056</th>\n",
       "      <td>A2C60HR7WQW9RX</td>\n",
       "      <td>B00LNOKBYW</td>\n",
       "      <td>5.0</td>\n",
       "      <td>1405728000</td>\n",
       "    </tr>\n",
       "    <tr>\n",
       "      <th>2023057</th>\n",
       "      <td>A1IO9HRIA7ZJGU</td>\n",
       "      <td>B00LNOKBYW</td>\n",
       "      <td>5.0</td>\n",
       "      <td>1405555200</td>\n",
       "    </tr>\n",
       "    <tr>\n",
       "      <th>2023058</th>\n",
       "      <td>A1SJD7QDROVPCC</td>\n",
       "      <td>B00LNOKBYW</td>\n",
       "      <td>5.0</td>\n",
       "      <td>1405296000</td>\n",
       "    </tr>\n",
       "    <tr>\n",
       "      <th>2023059</th>\n",
       "      <td>AFPRQT3V8C1U1</td>\n",
       "      <td>B00LNOKBYW</td>\n",
       "      <td>5.0</td>\n",
       "      <td>1405468800</td>\n",
       "    </tr>\n",
       "    <tr>\n",
       "      <th>2023060</th>\n",
       "      <td>A3EN0JCMEML724</td>\n",
       "      <td>B00LNOKBYW</td>\n",
       "      <td>5.0</td>\n",
       "      <td>1405641600</td>\n",
       "    </tr>\n",
       "    <tr>\n",
       "      <th>2023061</th>\n",
       "      <td>A1RYQPQ01T5D5R</td>\n",
       "      <td>B00LNOKBYW</td>\n",
       "      <td>5.0</td>\n",
       "      <td>1406073600</td>\n",
       "    </tr>\n",
       "    <tr>\n",
       "      <th>2023062</th>\n",
       "      <td>A3MQDRRGC9070R</td>\n",
       "      <td>B00LNOKBYW</td>\n",
       "      <td>5.0</td>\n",
       "      <td>1405987200</td>\n",
       "    </tr>\n",
       "    <tr>\n",
       "      <th>2023063</th>\n",
       "      <td>A2LB743IV4NS2W</td>\n",
       "      <td>B00LNOKBYW</td>\n",
       "      <td>5.0</td>\n",
       "      <td>1405555200</td>\n",
       "    </tr>\n",
       "    <tr>\n",
       "      <th>2023064</th>\n",
       "      <td>A1YSYUGR6XRMIW</td>\n",
       "      <td>B00LNOKBYW</td>\n",
       "      <td>5.0</td>\n",
       "      <td>1405382400</td>\n",
       "    </tr>\n",
       "    <tr>\n",
       "      <th>2023065</th>\n",
       "      <td>A3DEHKPFANB8VA</td>\n",
       "      <td>B00LORWRJA</td>\n",
       "      <td>5.0</td>\n",
       "      <td>1405296000</td>\n",
       "    </tr>\n",
       "    <tr>\n",
       "      <th>2023066</th>\n",
       "      <td>A3DEHKPFANB8VA</td>\n",
       "      <td>B00LOS7MEE</td>\n",
       "      <td>5.0</td>\n",
       "      <td>1405296000</td>\n",
       "    </tr>\n",
       "    <tr>\n",
       "      <th>2023067</th>\n",
       "      <td>AG9TJLJUN5OM3</td>\n",
       "      <td>B00LP2YB8E</td>\n",
       "      <td>5.0</td>\n",
       "      <td>1405382400</td>\n",
       "    </tr>\n",
       "    <tr>\n",
       "      <th>2023068</th>\n",
       "      <td>AYBIB14QOI9PC</td>\n",
       "      <td>B00LPVG6V0</td>\n",
       "      <td>5.0</td>\n",
       "      <td>1405555200</td>\n",
       "    </tr>\n",
       "    <tr>\n",
       "      <th>2023069</th>\n",
       "      <td>A1PB6OT0OOPKNQ</td>\n",
       "      <td>B00LU0LTOU</td>\n",
       "      <td>5.0</td>\n",
       "      <td>1405641600</td>\n",
       "    </tr>\n",
       "  </tbody>\n",
       "</table>\n",
       "</div>"
      ],
      "text/plain": [
       "                 UserId   ProductId  Rating   Timestamp\n",
       "2023036  A2KMP4LQ5FB7PW  B00LLPT4HI     5.0  1405641600\n",
       "2023037  A1BKT6LV2SEN28  B00LLPT4HI     5.0  1406073600\n",
       "2023038  A35Q0RBM3YNQNF  B00LLPT4HI     5.0  1405468800\n",
       "2023039  A2NYK9KWFMJV4Y  B00LLPT4HI     5.0  1405382400\n",
       "2023040  A14XVBP38Z8HIY  B00LLPT4HI     5.0  1405555200\n",
       "2023041  A3JJ53IS8XISMT  B00LLPT4HI     5.0  1405900800\n",
       "2023042  A3LGT6UZL99IW1  B00LLPT4HI     5.0  1405382400\n",
       "2023043   ASKZO80Z1RKTR  B00LLPT4HI     5.0  1405209600\n",
       "2023044  A1A7EBY8XJ46PA  B00LLPT4HI     5.0  1405728000\n",
       "2023045  A1HQ0KTGWQIWYI  B00LLPT4HI     5.0  1405900800\n",
       "2023046  A3UJRNI8UR4871  B00LLPT4HI     5.0  1405987200\n",
       "2023047   AZ9JPUSCI0V49  B00LMOT7X4     3.0  1404950400\n",
       "2023048  A3DEHKPFANB8VA  B00LMWUR9O     5.0  1405555200\n",
       "2023049  A30JSH9DQY3PB0  B00LMXHR1Y     5.0  1404950400\n",
       "2023050  A3DEHKPFANB8VA  B00LMXHR1Y     5.0  1405296000\n",
       "2023051   AU8FV7C2UFVKR  B00LNOKBYW     5.0  1405468800\n",
       "2023052  A1K3QII0DFSTV2  B00LNOKBYW     5.0  1405728000\n",
       "2023053  A2UEVIIDLL6J4L  B00LNOKBYW     5.0  1405900800\n",
       "2023054   ADQ41IJPQW2TN  B00LNOKBYW     5.0  1405728000\n",
       "2023055  A1NQACPQ21C8AX  B00LNOKBYW     5.0  1405728000\n",
       "2023056  A2C60HR7WQW9RX  B00LNOKBYW     5.0  1405728000\n",
       "2023057  A1IO9HRIA7ZJGU  B00LNOKBYW     5.0  1405555200\n",
       "2023058  A1SJD7QDROVPCC  B00LNOKBYW     5.0  1405296000\n",
       "2023059   AFPRQT3V8C1U1  B00LNOKBYW     5.0  1405468800\n",
       "2023060  A3EN0JCMEML724  B00LNOKBYW     5.0  1405641600\n",
       "2023061  A1RYQPQ01T5D5R  B00LNOKBYW     5.0  1406073600\n",
       "2023062  A3MQDRRGC9070R  B00LNOKBYW     5.0  1405987200\n",
       "2023063  A2LB743IV4NS2W  B00LNOKBYW     5.0  1405555200\n",
       "2023064  A1YSYUGR6XRMIW  B00LNOKBYW     5.0  1405382400\n",
       "2023065  A3DEHKPFANB8VA  B00LORWRJA     5.0  1405296000\n",
       "2023066  A3DEHKPFANB8VA  B00LOS7MEE     5.0  1405296000\n",
       "2023067   AG9TJLJUN5OM3  B00LP2YB8E     5.0  1405382400\n",
       "2023068   AYBIB14QOI9PC  B00LPVG6V0     5.0  1405555200\n",
       "2023069  A1PB6OT0OOPKNQ  B00LU0LTOU     5.0  1405641600"
      ]
     },
     "execution_count": 6,
     "metadata": {},
     "output_type": "execute_result"
    }
   ],
   "source": [
    "f_rat.tail(34)"
   ]
  },
  {
   "cell_type": "code",
   "execution_count": 7,
   "id": "90732c52",
   "metadata": {},
   "outputs": [
    {
     "name": "stdout",
     "output_type": "stream",
     "text": [
      "The rows and The Columns: (2023070, 4)\n"
     ]
    }
   ],
   "source": [
    "print(f\"The rows and The Columns: {f_rat.shape}\")"
   ]
  },
  {
   "cell_type": "code",
   "execution_count": 8,
   "id": "da77530f",
   "metadata": {},
   "outputs": [],
   "source": [
    "famous_prducts = pd.DataFrame(f_rat.groupby('ProductId')['Rating'].count())"
   ]
  },
  {
   "cell_type": "code",
   "execution_count": 9,
   "id": "ae0113a5",
   "metadata": {},
   "outputs": [],
   "source": [
    "widely_famous=famous_prducts.sort_values('Rating',ascending=False)"
   ]
  },
  {
   "cell_type": "code",
   "execution_count": 10,
   "id": "5c07f5e3",
   "metadata": {},
   "outputs": [
    {
     "data": {
      "text/html": [
       "<div>\n",
       "<style scoped>\n",
       "    .dataframe tbody tr th:only-of-type {\n",
       "        vertical-align: middle;\n",
       "    }\n",
       "\n",
       "    .dataframe tbody tr th {\n",
       "        vertical-align: top;\n",
       "    }\n",
       "\n",
       "    .dataframe thead th {\n",
       "        text-align: right;\n",
       "    }\n",
       "</style>\n",
       "<table border=\"1\" class=\"dataframe\">\n",
       "  <thead>\n",
       "    <tr style=\"text-align: right;\">\n",
       "      <th></th>\n",
       "      <th>Rating</th>\n",
       "    </tr>\n",
       "    <tr>\n",
       "      <th>ProductId</th>\n",
       "      <th></th>\n",
       "    </tr>\n",
       "  </thead>\n",
       "  <tbody>\n",
       "    <tr>\n",
       "      <th>B001MA0QY2</th>\n",
       "      <td>7533</td>\n",
       "    </tr>\n",
       "    <tr>\n",
       "      <th>B0009V1YR8</th>\n",
       "      <td>2869</td>\n",
       "    </tr>\n",
       "    <tr>\n",
       "      <th>B0043OYFKU</th>\n",
       "      <td>2477</td>\n",
       "    </tr>\n",
       "    <tr>\n",
       "      <th>B0000YUXI0</th>\n",
       "      <td>2143</td>\n",
       "    </tr>\n",
       "    <tr>\n",
       "      <th>B003V265QW</th>\n",
       "      <td>2088</td>\n",
       "    </tr>\n",
       "    <tr>\n",
       "      <th>B000ZMBSPE</th>\n",
       "      <td>2041</td>\n",
       "    </tr>\n",
       "    <tr>\n",
       "      <th>B003BQ6QXK</th>\n",
       "      <td>1918</td>\n",
       "    </tr>\n",
       "    <tr>\n",
       "      <th>B004OHQR1Q</th>\n",
       "      <td>1885</td>\n",
       "    </tr>\n",
       "    <tr>\n",
       "      <th>B00121UVU0</th>\n",
       "      <td>1838</td>\n",
       "    </tr>\n",
       "    <tr>\n",
       "      <th>B000FS05VG</th>\n",
       "      <td>1589</td>\n",
       "    </tr>\n",
       "    <tr>\n",
       "      <th>B000142FVW</th>\n",
       "      <td>1558</td>\n",
       "    </tr>\n",
       "    <tr>\n",
       "      <th>B0046VGPHQ</th>\n",
       "      <td>1475</td>\n",
       "    </tr>\n",
       "    <tr>\n",
       "      <th>B001JKTTVQ</th>\n",
       "      <td>1468</td>\n",
       "    </tr>\n",
       "    <tr>\n",
       "      <th>B004INUWX0</th>\n",
       "      <td>1430</td>\n",
       "    </tr>\n",
       "    <tr>\n",
       "      <th>B000TKH6G2</th>\n",
       "      <td>1379</td>\n",
       "    </tr>\n",
       "    <tr>\n",
       "      <th>B0048O2R1E</th>\n",
       "      <td>1349</td>\n",
       "    </tr>\n",
       "    <tr>\n",
       "      <th>B00150LT40</th>\n",
       "      <td>1349</td>\n",
       "    </tr>\n",
       "    <tr>\n",
       "      <th>B003S516XO</th>\n",
       "      <td>1347</td>\n",
       "    </tr>\n",
       "    <tr>\n",
       "      <th>B00188IFHS</th>\n",
       "      <td>1341</td>\n",
       "    </tr>\n",
       "    <tr>\n",
       "      <th>B0056GDG90</th>\n",
       "      <td>1333</td>\n",
       "    </tr>\n",
       "    <tr>\n",
       "      <th>B00538TSMU</th>\n",
       "      <td>1330</td>\n",
       "    </tr>\n",
       "    <tr>\n",
       "      <th>B0069FDR96</th>\n",
       "      <td>1323</td>\n",
       "    </tr>\n",
       "    <tr>\n",
       "      <th>B006IBM21K</th>\n",
       "      <td>1163</td>\n",
       "    </tr>\n",
       "    <tr>\n",
       "      <th>B002WTC38O</th>\n",
       "      <td>1159</td>\n",
       "    </tr>\n",
       "    <tr>\n",
       "      <th>B006L1DNWY</th>\n",
       "      <td>1153</td>\n",
       "    </tr>\n",
       "    <tr>\n",
       "      <th>B001AO0WCG</th>\n",
       "      <td>1136</td>\n",
       "    </tr>\n",
       "    <tr>\n",
       "      <th>B007BLN17K</th>\n",
       "      <td>1135</td>\n",
       "    </tr>\n",
       "    <tr>\n",
       "      <th>B003UH0528</th>\n",
       "      <td>1108</td>\n",
       "    </tr>\n",
       "    <tr>\n",
       "      <th>B000UVZU1S</th>\n",
       "      <td>1105</td>\n",
       "    </tr>\n",
       "    <tr>\n",
       "      <th>B002LB75AO</th>\n",
       "      <td>1079</td>\n",
       "    </tr>\n",
       "    <tr>\n",
       "      <th>B000VPPUEA</th>\n",
       "      <td>1074</td>\n",
       "    </tr>\n",
       "    <tr>\n",
       "      <th>B004Z40048</th>\n",
       "      <td>1061</td>\n",
       "    </tr>\n",
       "    <tr>\n",
       "      <th>B00021DVCQ</th>\n",
       "      <td>1051</td>\n",
       "    </tr>\n",
       "  </tbody>\n",
       "</table>\n",
       "</div>"
      ],
      "text/plain": [
       "            Rating\n",
       "ProductId         \n",
       "B001MA0QY2    7533\n",
       "B0009V1YR8    2869\n",
       "B0043OYFKU    2477\n",
       "B0000YUXI0    2143\n",
       "B003V265QW    2088\n",
       "B000ZMBSPE    2041\n",
       "B003BQ6QXK    1918\n",
       "B004OHQR1Q    1885\n",
       "B00121UVU0    1838\n",
       "B000FS05VG    1589\n",
       "B000142FVW    1558\n",
       "B0046VGPHQ    1475\n",
       "B001JKTTVQ    1468\n",
       "B004INUWX0    1430\n",
       "B000TKH6G2    1379\n",
       "B0048O2R1E    1349\n",
       "B00150LT40    1349\n",
       "B003S516XO    1347\n",
       "B00188IFHS    1341\n",
       "B0056GDG90    1333\n",
       "B00538TSMU    1330\n",
       "B0069FDR96    1323\n",
       "B006IBM21K    1163\n",
       "B002WTC38O    1159\n",
       "B006L1DNWY    1153\n",
       "B001AO0WCG    1136\n",
       "B007BLN17K    1135\n",
       "B003UH0528    1108\n",
       "B000UVZU1S    1105\n",
       "B002LB75AO    1079\n",
       "B000VPPUEA    1074\n",
       "B004Z40048    1061\n",
       "B00021DVCQ    1051"
      ]
     },
     "execution_count": 10,
     "metadata": {},
     "output_type": "execute_result"
    }
   ],
   "source": [
    "widely_famous.head(33)"
   ]
  },
  {
   "cell_type": "code",
   "execution_count": 11,
   "id": "9df08168",
   "metadata": {},
   "outputs": [
    {
     "data": {
      "text/plain": [
       "<Axes: title={'center': 'Widely popluar Products'}, ylabel='Frequency'>"
      ]
     },
     "execution_count": 11,
     "metadata": {},
     "output_type": "execute_result"
    },
    {
     "data": {
      "image/png": "[encoded data removed]",
      "text/plain": [
       "<Figure size 640x480 with 1 Axes>"
      ]
     },
     "metadata": {},
     "output_type": "display_data"
    }
   ],
   "source": [
    "widely_famous.head(45).plot(kind=\"hist\",title=\"Widely popluar Products\",xlabel=\"y\",ylabel=\"x\")"
   ]
  },
  {
   "cell_type": "code",
   "execution_count": 12,
   "id": "eacc00d6",
   "metadata": {},
   "outputs": [],
   "source": [
    "#Utility matrix factorization"
   ]
  },
  {
   "cell_type": "code",
   "execution_count": 13,
   "id": "35330b02",
   "metadata": {},
   "outputs": [],
   "source": [
    "f_rat1=f_rat.head(10000)"
   ]
  },
  {
   "cell_type": "code",
   "execution_count": 14,
   "id": "cf73f416",
   "metadata": {},
   "outputs": [],
   "source": [
    "r_uti_matrix=f_rat1.pivot_table(values='Rating',index=\"UserId\",columns=\"ProductId\",fill_value=0)"
   ]
  },
  {
   "cell_type": "code",
   "execution_count": 15,
   "id": "d7f211d4",
   "metadata": {},
   "outputs": [
    {
     "data": {
      "text/html": [
       "<div>\n",
       "<style scoped>\n",
       "    .dataframe tbody tr th:only-of-type {\n",
       "        vertical-align: middle;\n",
       "    }\n",
       "\n",
       "    .dataframe tbody tr th {\n",
       "        vertical-align: top;\n",
       "    }\n",
       "\n",
       "    .dataframe thead th {\n",
       "        text-align: right;\n",
       "    }\n",
       "</style>\n",
       "<table border=\"1\" class=\"dataframe\">\n",
       "  <thead>\n",
       "    <tr style=\"text-align: right;\">\n",
       "      <th>ProductId</th>\n",
       "      <th>0205616461</th>\n",
       "      <th>0558925278</th>\n",
       "      <th>0733001998</th>\n",
       "      <th>0737104473</th>\n",
       "      <th>0762451459</th>\n",
       "      <th>1304139212</th>\n",
       "      <th>1304139220</th>\n",
       "      <th>130414089X</th>\n",
       "      <th>130414643X</th>\n",
       "      <th>1304146537</th>\n",
       "      <th>...</th>\n",
       "      <th>B000052YPE</th>\n",
       "      <th>B000052YPF</th>\n",
       "      <th>B000052YPG</th>\n",
       "      <th>B000052YPH</th>\n",
       "      <th>B000052YPM</th>\n",
       "      <th>B000052YPU</th>\n",
       "      <th>B000052YPV</th>\n",
       "      <th>B000052YPY</th>\n",
       "      <th>B000052YQ0</th>\n",
       "      <th>B000052YQ2</th>\n",
       "    </tr>\n",
       "    <tr>\n",
       "      <th>UserId</th>\n",
       "      <th></th>\n",
       "      <th></th>\n",
       "      <th></th>\n",
       "      <th></th>\n",
       "      <th></th>\n",
       "      <th></th>\n",
       "      <th></th>\n",
       "      <th></th>\n",
       "      <th></th>\n",
       "      <th></th>\n",
       "      <th></th>\n",
       "      <th></th>\n",
       "      <th></th>\n",
       "      <th></th>\n",
       "      <th></th>\n",
       "      <th></th>\n",
       "      <th></th>\n",
       "      <th></th>\n",
       "      <th></th>\n",
       "      <th></th>\n",
       "      <th></th>\n",
       "    </tr>\n",
       "  </thead>\n",
       "  <tbody>\n",
       "    <tr>\n",
       "      <th>A00205921JHJK5X9LNP42</th>\n",
       "      <td>0</td>\n",
       "      <td>0</td>\n",
       "      <td>0</td>\n",
       "      <td>0</td>\n",
       "      <td>0</td>\n",
       "      <td>0</td>\n",
       "      <td>0</td>\n",
       "      <td>0</td>\n",
       "      <td>0</td>\n",
       "      <td>0</td>\n",
       "      <td>...</td>\n",
       "      <td>0</td>\n",
       "      <td>0</td>\n",
       "      <td>0</td>\n",
       "      <td>0</td>\n",
       "      <td>0</td>\n",
       "      <td>0</td>\n",
       "      <td>0</td>\n",
       "      <td>0</td>\n",
       "      <td>0</td>\n",
       "      <td>0</td>\n",
       "    </tr>\n",
       "    <tr>\n",
       "      <th>A024581134CV80ZBLIZTZ</th>\n",
       "      <td>0</td>\n",
       "      <td>0</td>\n",
       "      <td>0</td>\n",
       "      <td>0</td>\n",
       "      <td>0</td>\n",
       "      <td>0</td>\n",
       "      <td>0</td>\n",
       "      <td>0</td>\n",
       "      <td>0</td>\n",
       "      <td>0</td>\n",
       "      <td>...</td>\n",
       "      <td>0</td>\n",
       "      <td>0</td>\n",
       "      <td>0</td>\n",
       "      <td>0</td>\n",
       "      <td>0</td>\n",
       "      <td>0</td>\n",
       "      <td>0</td>\n",
       "      <td>0</td>\n",
       "      <td>0</td>\n",
       "      <td>0</td>\n",
       "    </tr>\n",
       "    <tr>\n",
       "      <th>A03056581JJIOL5FSKJY7</th>\n",
       "      <td>0</td>\n",
       "      <td>0</td>\n",
       "      <td>0</td>\n",
       "      <td>0</td>\n",
       "      <td>0</td>\n",
       "      <td>0</td>\n",
       "      <td>0</td>\n",
       "      <td>0</td>\n",
       "      <td>0</td>\n",
       "      <td>0</td>\n",
       "      <td>...</td>\n",
       "      <td>0</td>\n",
       "      <td>0</td>\n",
       "      <td>0</td>\n",
       "      <td>0</td>\n",
       "      <td>0</td>\n",
       "      <td>0</td>\n",
       "      <td>0</td>\n",
       "      <td>0</td>\n",
       "      <td>0</td>\n",
       "      <td>0</td>\n",
       "    </tr>\n",
       "    <tr>\n",
       "      <th>A03099101ZRK4K607JVHH</th>\n",
       "      <td>0</td>\n",
       "      <td>0</td>\n",
       "      <td>0</td>\n",
       "      <td>0</td>\n",
       "      <td>0</td>\n",
       "      <td>0</td>\n",
       "      <td>0</td>\n",
       "      <td>0</td>\n",
       "      <td>0</td>\n",
       "      <td>0</td>\n",
       "      <td>...</td>\n",
       "      <td>0</td>\n",
       "      <td>0</td>\n",
       "      <td>0</td>\n",
       "      <td>0</td>\n",
       "      <td>0</td>\n",
       "      <td>0</td>\n",
       "      <td>0</td>\n",
       "      <td>0</td>\n",
       "      <td>0</td>\n",
       "      <td>0</td>\n",
       "    </tr>\n",
       "    <tr>\n",
       "      <th>A0505229A7NSH3FRXRR4</th>\n",
       "      <td>0</td>\n",
       "      <td>0</td>\n",
       "      <td>0</td>\n",
       "      <td>0</td>\n",
       "      <td>0</td>\n",
       "      <td>0</td>\n",
       "      <td>0</td>\n",
       "      <td>0</td>\n",
       "      <td>0</td>\n",
       "      <td>0</td>\n",
       "      <td>...</td>\n",
       "      <td>0</td>\n",
       "      <td>0</td>\n",
       "      <td>0</td>\n",
       "      <td>0</td>\n",
       "      <td>0</td>\n",
       "      <td>0</td>\n",
       "      <td>0</td>\n",
       "      <td>0</td>\n",
       "      <td>0</td>\n",
       "      <td>0</td>\n",
       "    </tr>\n",
       "  </tbody>\n",
       "</table>\n",
       "<p>5 rows × 886 columns</p>\n",
       "</div>"
      ],
      "text/plain": [
       "ProductId              0205616461  0558925278  0733001998  0737104473  \\\n",
       "UserId                                                                  \n",
       "A00205921JHJK5X9LNP42           0           0           0           0   \n",
       "A024581134CV80ZBLIZTZ           0           0           0           0   \n",
       "A03056581JJIOL5FSKJY7           0           0           0           0   \n",
       "A03099101ZRK4K607JVHH           0           0           0           0   \n",
       "A0505229A7NSH3FRXRR4            0           0           0           0   \n",
       "\n",
       "ProductId              0762451459  1304139212  1304139220  130414089X  \\\n",
       "UserId                                                                  \n",
       "A00205921JHJK5X9LNP42           0           0           0           0   \n",
       "A024581134CV80ZBLIZTZ           0           0           0           0   \n",
       "A03056581JJIOL5FSKJY7           0           0           0           0   \n",
       "A03099101ZRK4K607JVHH           0           0           0           0   \n",
       "A0505229A7NSH3FRXRR4            0           0           0           0   \n",
       "\n",
       "ProductId              130414643X  1304146537  ...  B000052YPE  B000052YPF  \\\n",
       "UserId                                         ...                           \n",
       "A00205921JHJK5X9LNP42           0           0  ...           0           0   \n",
       "A024581134CV80ZBLIZTZ           0           0  ...           0           0   \n",
       "A03056581JJIOL5FSKJY7           0           0  ...           0           0   \n",
       "A03099101ZRK4K607JVHH           0           0  ...           0           0   \n",
       "A0505229A7NSH3FRXRR4            0           0  ...           0           0   \n",
       "\n",
       "ProductId              B000052YPG  B000052YPH  B000052YPM  B000052YPU  \\\n",
       "UserId                                                                  \n",
       "A00205921JHJK5X9LNP42           0           0           0           0   \n",
       "A024581134CV80ZBLIZTZ           0           0           0           0   \n",
       "A03056581JJIOL5FSKJY7           0           0           0           0   \n",
       "A03099101ZRK4K607JVHH           0           0           0           0   \n",
       "A0505229A7NSH3FRXRR4            0           0           0           0   \n",
       "\n",
       "ProductId              B000052YPV  B000052YPY  B000052YQ0  B000052YQ2  \n",
       "UserId                                                                 \n",
       "A00205921JHJK5X9LNP42           0           0           0           0  \n",
       "A024581134CV80ZBLIZTZ           0           0           0           0  \n",
       "A03056581JJIOL5FSKJY7           0           0           0           0  \n",
       "A03099101ZRK4K607JVHH           0           0           0           0  \n",
       "A0505229A7NSH3FRXRR4            0           0           0           0  \n",
       "\n",
       "[5 rows x 886 columns]"
      ]
     },
     "execution_count": 15,
     "metadata": {},
     "output_type": "execute_result"
    }
   ],
   "source": [
    "r_uti_matrix.head()"
   ]
  },
  {
   "cell_type": "code",
   "execution_count": 16,
   "id": "9b95829d",
   "metadata": {},
   "outputs": [],
   "source": [
    "#Its all sparce"
   ]
  },
  {
   "cell_type": "code",
   "execution_count": 17,
   "id": "a24f03ec",
   "metadata": {},
   "outputs": [],
   "source": [
    "#Now we'll know the shape\n"
   ]
  },
  {
   "cell_type": "code",
   "execution_count": 18,
   "id": "96b84d6e",
   "metadata": {},
   "outputs": [
    {
     "data": {
      "text/plain": [
       "(9697, 886)"
      ]
     },
     "execution_count": 18,
     "metadata": {},
     "output_type": "execute_result"
    }
   ],
   "source": [
    "r_uti_matrix.shape"
   ]
  },
  {
   "cell_type": "code",
   "execution_count": 19,
   "id": "35c7d11f",
   "metadata": {},
   "outputs": [],
   "source": [
    "X_rat=r_uti_matrix.T"
   ]
  },
  {
   "cell_type": "code",
   "execution_count": 20,
   "id": "38f7f92d",
   "metadata": {},
   "outputs": [
    {
     "data": {
      "text/html": [
       "<div>\n",
       "<style scoped>\n",
       "    .dataframe tbody tr th:only-of-type {\n",
       "        vertical-align: middle;\n",
       "    }\n",
       "\n",
       "    .dataframe tbody tr th {\n",
       "        vertical-align: top;\n",
       "    }\n",
       "\n",
       "    .dataframe thead th {\n",
       "        text-align: right;\n",
       "    }\n",
       "</style>\n",
       "<table border=\"1\" class=\"dataframe\">\n",
       "  <thead>\n",
       "    <tr style=\"text-align: right;\">\n",
       "      <th>UserId</th>\n",
       "      <th>A00205921JHJK5X9LNP42</th>\n",
       "      <th>A024581134CV80ZBLIZTZ</th>\n",
       "      <th>A03056581JJIOL5FSKJY7</th>\n",
       "      <th>A03099101ZRK4K607JVHH</th>\n",
       "      <th>A0505229A7NSH3FRXRR4</th>\n",
       "      <th>A05492663T95KW63BR75K</th>\n",
       "      <th>A059547920Q3LZVFHLPI3</th>\n",
       "      <th>A07410232KYRFR25CIUGJ</th>\n",
       "      <th>A082796624UNM47DSAI6K</th>\n",
       "      <th>A0864963DOAY7LXGS5I6</th>\n",
       "      <th>...</th>\n",
       "      <th>AZW1HXXYAC15B</th>\n",
       "      <th>AZWRTJPN7NXT</th>\n",
       "      <th>AZWTXHXZXFAYP</th>\n",
       "      <th>AZYQEFB9Y5N22</th>\n",
       "      <th>AZZHB6U54UDYW</th>\n",
       "      <th>AZZHJZP4GQPPZ</th>\n",
       "      <th>AZZNK89PXD006</th>\n",
       "      <th>AZZOFVMQC0BJG</th>\n",
       "      <th>AZZQXL8VDCFTV</th>\n",
       "      <th>AZZTJQ7CQZUD8</th>\n",
       "    </tr>\n",
       "    <tr>\n",
       "      <th>ProductId</th>\n",
       "      <th></th>\n",
       "      <th></th>\n",
       "      <th></th>\n",
       "      <th></th>\n",
       "      <th></th>\n",
       "      <th></th>\n",
       "      <th></th>\n",
       "      <th></th>\n",
       "      <th></th>\n",
       "      <th></th>\n",
       "      <th></th>\n",
       "      <th></th>\n",
       "      <th></th>\n",
       "      <th></th>\n",
       "      <th></th>\n",
       "      <th></th>\n",
       "      <th></th>\n",
       "      <th></th>\n",
       "      <th></th>\n",
       "      <th></th>\n",
       "      <th></th>\n",
       "    </tr>\n",
       "  </thead>\n",
       "  <tbody>\n",
       "    <tr>\n",
       "      <th>0205616461</th>\n",
       "      <td>0</td>\n",
       "      <td>0</td>\n",
       "      <td>0</td>\n",
       "      <td>0</td>\n",
       "      <td>0</td>\n",
       "      <td>0</td>\n",
       "      <td>0</td>\n",
       "      <td>0</td>\n",
       "      <td>0</td>\n",
       "      <td>0</td>\n",
       "      <td>...</td>\n",
       "      <td>0</td>\n",
       "      <td>0</td>\n",
       "      <td>0</td>\n",
       "      <td>0</td>\n",
       "      <td>0</td>\n",
       "      <td>0</td>\n",
       "      <td>0</td>\n",
       "      <td>0</td>\n",
       "      <td>0</td>\n",
       "      <td>0</td>\n",
       "    </tr>\n",
       "    <tr>\n",
       "      <th>0558925278</th>\n",
       "      <td>0</td>\n",
       "      <td>0</td>\n",
       "      <td>0</td>\n",
       "      <td>0</td>\n",
       "      <td>0</td>\n",
       "      <td>0</td>\n",
       "      <td>0</td>\n",
       "      <td>0</td>\n",
       "      <td>0</td>\n",
       "      <td>0</td>\n",
       "      <td>...</td>\n",
       "      <td>0</td>\n",
       "      <td>0</td>\n",
       "      <td>0</td>\n",
       "      <td>0</td>\n",
       "      <td>0</td>\n",
       "      <td>0</td>\n",
       "      <td>0</td>\n",
       "      <td>0</td>\n",
       "      <td>0</td>\n",
       "      <td>0</td>\n",
       "    </tr>\n",
       "    <tr>\n",
       "      <th>0733001998</th>\n",
       "      <td>0</td>\n",
       "      <td>0</td>\n",
       "      <td>0</td>\n",
       "      <td>0</td>\n",
       "      <td>0</td>\n",
       "      <td>0</td>\n",
       "      <td>0</td>\n",
       "      <td>0</td>\n",
       "      <td>0</td>\n",
       "      <td>0</td>\n",
       "      <td>...</td>\n",
       "      <td>0</td>\n",
       "      <td>0</td>\n",
       "      <td>0</td>\n",
       "      <td>0</td>\n",
       "      <td>0</td>\n",
       "      <td>0</td>\n",
       "      <td>0</td>\n",
       "      <td>0</td>\n",
       "      <td>0</td>\n",
       "      <td>0</td>\n",
       "    </tr>\n",
       "    <tr>\n",
       "      <th>0737104473</th>\n",
       "      <td>0</td>\n",
       "      <td>0</td>\n",
       "      <td>0</td>\n",
       "      <td>0</td>\n",
       "      <td>0</td>\n",
       "      <td>0</td>\n",
       "      <td>0</td>\n",
       "      <td>0</td>\n",
       "      <td>0</td>\n",
       "      <td>0</td>\n",
       "      <td>...</td>\n",
       "      <td>0</td>\n",
       "      <td>0</td>\n",
       "      <td>0</td>\n",
       "      <td>0</td>\n",
       "      <td>0</td>\n",
       "      <td>0</td>\n",
       "      <td>0</td>\n",
       "      <td>0</td>\n",
       "      <td>0</td>\n",
       "      <td>0</td>\n",
       "    </tr>\n",
       "    <tr>\n",
       "      <th>0762451459</th>\n",
       "      <td>0</td>\n",
       "      <td>0</td>\n",
       "      <td>0</td>\n",
       "      <td>0</td>\n",
       "      <td>0</td>\n",
       "      <td>0</td>\n",
       "      <td>0</td>\n",
       "      <td>0</td>\n",
       "      <td>0</td>\n",
       "      <td>0</td>\n",
       "      <td>...</td>\n",
       "      <td>0</td>\n",
       "      <td>0</td>\n",
       "      <td>0</td>\n",
       "      <td>0</td>\n",
       "      <td>0</td>\n",
       "      <td>0</td>\n",
       "      <td>0</td>\n",
       "      <td>0</td>\n",
       "      <td>0</td>\n",
       "      <td>0</td>\n",
       "    </tr>\n",
       "  </tbody>\n",
       "</table>\n",
       "<p>5 rows × 9697 columns</p>\n",
       "</div>"
      ],
      "text/plain": [
       "UserId      A00205921JHJK5X9LNP42  A024581134CV80ZBLIZTZ  \\\n",
       "ProductId                                                  \n",
       "0205616461                      0                      0   \n",
       "0558925278                      0                      0   \n",
       "0733001998                      0                      0   \n",
       "0737104473                      0                      0   \n",
       "0762451459                      0                      0   \n",
       "\n",
       "UserId      A03056581JJIOL5FSKJY7  A03099101ZRK4K607JVHH  \\\n",
       "ProductId                                                  \n",
       "0205616461                      0                      0   \n",
       "0558925278                      0                      0   \n",
       "0733001998                      0                      0   \n",
       "0737104473                      0                      0   \n",
       "0762451459                      0                      0   \n",
       "\n",
       "UserId      A0505229A7NSH3FRXRR4  A05492663T95KW63BR75K  \\\n",
       "ProductId                                                 \n",
       "0205616461                     0                      0   \n",
       "0558925278                     0                      0   \n",
       "0733001998                     0                      0   \n",
       "0737104473                     0                      0   \n",
       "0762451459                     0                      0   \n",
       "\n",
       "UserId      A059547920Q3LZVFHLPI3  A07410232KYRFR25CIUGJ  \\\n",
       "ProductId                                                  \n",
       "0205616461                      0                      0   \n",
       "0558925278                      0                      0   \n",
       "0733001998                      0                      0   \n",
       "0737104473                      0                      0   \n",
       "0762451459                      0                      0   \n",
       "\n",
       "UserId      A082796624UNM47DSAI6K  A0864963DOAY7LXGS5I6  ...  AZW1HXXYAC15B  \\\n",
       "ProductId                                                ...                  \n",
       "0205616461                      0                     0  ...              0   \n",
       "0558925278                      0                     0  ...              0   \n",
       "0733001998                      0                     0  ...              0   \n",
       "0737104473                      0                     0  ...              0   \n",
       "0762451459                      0                     0  ...              0   \n",
       "\n",
       "UserId      AZWRTJPN7NXT  AZWTXHXZXFAYP  AZYQEFB9Y5N22  AZZHB6U54UDYW  \\\n",
       "ProductId                                                               \n",
       "0205616461             0              0              0              0   \n",
       "0558925278             0              0              0              0   \n",
       "0733001998             0              0              0              0   \n",
       "0737104473             0              0              0              0   \n",
       "0762451459             0              0              0              0   \n",
       "\n",
       "UserId      AZZHJZP4GQPPZ  AZZNK89PXD006  AZZOFVMQC0BJG  AZZQXL8VDCFTV  \\\n",
       "ProductId                                                                \n",
       "0205616461              0              0              0              0   \n",
       "0558925278              0              0              0              0   \n",
       "0733001998              0              0              0              0   \n",
       "0737104473              0              0              0              0   \n",
       "0762451459              0              0              0              0   \n",
       "\n",
       "UserId      AZZTJQ7CQZUD8  \n",
       "ProductId                  \n",
       "0205616461              0  \n",
       "0558925278              0  \n",
       "0733001998              0  \n",
       "0737104473              0  \n",
       "0762451459              0  \n",
       "\n",
       "[5 rows x 9697 columns]"
      ]
     },
     "execution_count": 20,
     "metadata": {},
     "output_type": "execute_result"
    }
   ],
   "source": [
    "X_rat.head()"
   ]
  },
  {
   "cell_type": "code",
   "execution_count": 21,
   "id": "0deaac3d",
   "metadata": {},
   "outputs": [
    {
     "data": {
      "text/plain": [
       "(886, 9697)"
      ]
     },
     "execution_count": 21,
     "metadata": {},
     "output_type": "execute_result"
    }
   ],
   "source": [
    "X_rat.shape"
   ]
  },
  {
   "cell_type": "code",
   "execution_count": 22,
   "id": "9856e75c",
   "metadata": {},
   "outputs": [],
   "source": [
    "X_rat1=X_rat\n",
    "\n"
   ]
  },
  {
   "cell_type": "code",
   "execution_count": 23,
   "id": "98841123",
   "metadata": {},
   "outputs": [],
   "source": [
    "# now we will put into the parts"
   ]
  },
  {
   "cell_type": "code",
   "execution_count": 24,
   "id": "caae7eef",
   "metadata": {},
   "outputs": [],
   "source": [
    "TrunSVD=TruncatedSVD(n_components=10)"
   ]
  },
  {
   "cell_type": "code",
   "execution_count": 25,
   "id": "5f321855",
   "metadata": {},
   "outputs": [],
   "source": [
    "decom_matrix=TrunSVD.fit_transform(X_rat)"
   ]
  },
  {
   "cell_type": "code",
   "execution_count": 26,
   "id": "647d584e",
   "metadata": {},
   "outputs": [
    {
     "name": "stdout",
     "output_type": "stream",
     "text": [
      "\u001b[H\u001b[2J"
     ]
    }
   ],
   "source": [
    "clear"
   ]
  },
  {
   "cell_type": "code",
   "execution_count": 27,
   "id": "fa1222c3",
   "metadata": {},
   "outputs": [],
   "source": [
    "corr_mat= num.corrcoef(decom_matrix)"
   ]
  },
  {
   "cell_type": "code",
   "execution_count": 28,
   "id": "452101cd",
   "metadata": {},
   "outputs": [
    {
     "data": {
      "text/plain": [
       "(886, 10)"
      ]
     },
     "execution_count": 28,
     "metadata": {},
     "output_type": "execute_result"
    }
   ],
   "source": [
    "decom_matrix.shape"
   ]
  },
  {
   "cell_type": "code",
   "execution_count": 29,
   "id": "57874cc4",
   "metadata": {},
   "outputs": [
    {
     "data": {
      "text/plain": [
       "(886, 886)"
      ]
     },
     "execution_count": 29,
     "metadata": {},
     "output_type": "execute_result"
    }
   ],
   "source": [
    "corr_mat.shape"
   ]
  },
  {
   "cell_type": "code",
   "execution_count": 30,
   "id": "d8b5e039",
   "metadata": {},
   "outputs": [],
   "source": [
    "#Now we can assume that we are buying any random product"
   ]
  },
  {
   "cell_type": "code",
   "execution_count": 31,
   "id": "d923d128",
   "metadata": {},
   "outputs": [],
   "source": [
    "import random\n"
   ]
  },
  {
   "cell_type": "code",
   "execution_count": 32,
   "id": "41eaadf3",
   "metadata": {},
   "outputs": [],
   "source": [
    "random_number=random.randint(1, 1000)"
   ]
  },
  {
   "cell_type": "code",
   "execution_count": 33,
   "id": "6383ca0c",
   "metadata": {},
   "outputs": [],
   "source": [
    "ran=X_rat.index[random_number]"
   ]
  },
  {
   "cell_type": "code",
   "execution_count": 34,
   "id": "1629fb9d",
   "metadata": {},
   "outputs": [],
   "source": [
    "z=ran"
   ]
  },
  {
   "cell_type": "code",
   "execution_count": 35,
   "id": "97b7473e",
   "metadata": {},
   "outputs": [],
   "source": [
    "pro_name=list(X_rat.index)"
   ]
  },
  {
   "cell_type": "code",
   "execution_count": 36,
   "id": "8cd7869a",
   "metadata": {},
   "outputs": [],
   "source": [
    "pro_id=pro_name.index(z)"
   ]
  },
  {
   "cell_type": "code",
   "execution_count": 37,
   "id": "f70adf8c",
   "metadata": {},
   "outputs": [
    {
     "data": {
      "text/plain": [
       "499"
      ]
     },
     "execution_count": 37,
     "metadata": {},
     "output_type": "execute_result"
    }
   ],
   "source": [
    "pro_id"
   ]
  },
  {
   "cell_type": "code",
   "execution_count": 38,
   "id": "3235d363",
   "metadata": {},
   "outputs": [],
   "source": [
    "corr_pid=corr_mat[pro_id]"
   ]
  },
  {
   "cell_type": "code",
   "execution_count": 39,
   "id": "fe4c462c",
   "metadata": {},
   "outputs": [
    {
     "data": {
      "text/plain": [
       "(886,)"
      ]
     },
     "execution_count": 39,
     "metadata": {},
     "output_type": "execute_result"
    }
   ],
   "source": [
    "corr_pid.shape"
   ]
  },
  {
   "cell_type": "code",
   "execution_count": 40,
   "id": "bd399034",
   "metadata": {},
   "outputs": [],
   "source": [
    "rec_list=list(X_rat.index[corr_pid>0.90])"
   ]
  },
  {
   "cell_type": "code",
   "execution_count": 41,
   "id": "0595af30",
   "metadata": {},
   "outputs": [],
   "source": [
    "rec_list.remove(z) # already removed"
   ]
  },
  {
   "cell_type": "code",
   "execution_count": null,
   "id": "59e62375",
   "metadata": {},
   "outputs": [],
   "source": []
  },
  {
   "cell_type": "code",
   "execution_count": 42,
   "id": "d49ac6db",
   "metadata": {},
   "outputs": [
    {
     "data": {
      "text/plain": [
       "['0558925278',\n",
       " '1987958179',\n",
       " '9742496811',\n",
       " '974383785X',\n",
       " '9788071163',\n",
       " '9790771347',\n",
       " '9790771517',\n",
       " '9790776403',\n",
       " 'B000000VP5']"
      ]
     },
     "execution_count": 42,
     "metadata": {},
     "output_type": "execute_result"
    }
   ],
   "source": [
    "rec_list[:9] # top ten"
   ]
  },
  {
   "cell_type": "code",
   "execution_count": 43,
   "id": "fb1784d2",
   "metadata": {},
   "outputs": [],
   "source": [
    "#Here we will use textual clustering analysis given in product description"
   ]
  },
  {
   "cell_type": "code",
   "execution_count": 44,
   "id": "7433414a",
   "metadata": {},
   "outputs": [],
   "source": [
    "from sklearn.feature_extraction.text import TfidfVectorizer, CountVectorizer\n",
    "from sklearn.neighbors import NearestNeighbors\n",
    "from sklearn.cluster import KMeans\n",
    "from sklearn.metrics import adjusted_rand_score"
   ]
  },
  {
   "cell_type": "code",
   "execution_count": 45,
   "id": "ca77f0f6",
   "metadata": {},
   "outputs": [
    {
     "data": {
      "text/plain": [
       "(124428, 2)"
      ]
     },
     "execution_count": 45,
     "metadata": {},
     "output_type": "execute_result"
    }
   ],
   "source": [
    "pro_des = pd.read_csv('pro_desc.csv')\n",
    "pro_des.shape"
   ]
  },
  {
   "cell_type": "code",
   "execution_count": 46,
   "id": "9afa82c1",
   "metadata": {},
   "outputs": [
    {
     "data": {
      "text/html": [
       "<div>\n",
       "<style scoped>\n",
       "    .dataframe tbody tr th:only-of-type {\n",
       "        vertical-align: middle;\n",
       "    }\n",
       "\n",
       "    .dataframe tbody tr th {\n",
       "        vertical-align: top;\n",
       "    }\n",
       "\n",
       "    .dataframe thead th {\n",
       "        text-align: right;\n",
       "    }\n",
       "</style>\n",
       "<table border=\"1\" class=\"dataframe\">\n",
       "  <thead>\n",
       "    <tr style=\"text-align: right;\">\n",
       "      <th></th>\n",
       "      <th>product_uid</th>\n",
       "      <th>product_description</th>\n",
       "    </tr>\n",
       "  </thead>\n",
       "  <tbody>\n",
       "    <tr>\n",
       "      <th>0</th>\n",
       "      <td>100001</td>\n",
       "      <td>Not only do angles make joints stronger, they ...</td>\n",
       "    </tr>\n",
       "    <tr>\n",
       "      <th>1</th>\n",
       "      <td>100002</td>\n",
       "      <td>BEHR Premium Textured DECKOVER is an innovativ...</td>\n",
       "    </tr>\n",
       "    <tr>\n",
       "      <th>2</th>\n",
       "      <td>100003</td>\n",
       "      <td>Classic architecture meets contemporary design...</td>\n",
       "    </tr>\n",
       "    <tr>\n",
       "      <th>3</th>\n",
       "      <td>100004</td>\n",
       "      <td>The Grape Solar 265-Watt Polycrystalline PV So...</td>\n",
       "    </tr>\n",
       "    <tr>\n",
       "      <th>4</th>\n",
       "      <td>100005</td>\n",
       "      <td>Update your bathroom with the Delta Vero Singl...</td>\n",
       "    </tr>\n",
       "  </tbody>\n",
       "</table>\n",
       "</div>"
      ],
      "text/plain": [
       "   product_uid                                product_description\n",
       "0       100001  Not only do angles make joints stronger, they ...\n",
       "1       100002  BEHR Premium Textured DECKOVER is an innovativ...\n",
       "2       100003  Classic architecture meets contemporary design...\n",
       "3       100004  The Grape Solar 265-Watt Polycrystalline PV So...\n",
       "4       100005  Update your bathroom with the Delta Vero Singl..."
      ]
     },
     "execution_count": 46,
     "metadata": {},
     "output_type": "execute_result"
    }
   ],
   "source": [
    "pro_des = pro_des.dropna()\n",
    "pro_des.shape\n",
    "pro_des.head()"
   ]
  },
  {
   "cell_type": "code",
   "execution_count": 47,
   "id": "676741cc",
   "metadata": {},
   "outputs": [
    {
     "data": {
      "text/plain": [
       "0    Not only do angles make joints stronger, they ...\n",
       "1    BEHR Premium Textured DECKOVER is an innovativ...\n",
       "2    Classic architecture meets contemporary design...\n",
       "3    The Grape Solar 265-Watt Polycrystalline PV So...\n",
       "4    Update your bathroom with the Delta Vero Singl...\n",
       "5    Achieving delicious results is almost effortle...\n",
       "6    The Quantum Adjustable 2-Light LED Black Emerg...\n",
       "7    The Teks #10 x 1-1/2 in. Zinc-Plated Steel Was...\n",
       "8    Get the House of Fara 3/4 in. x 3 in. x 8 ft. ...\n",
       "9    Valley View Industries Metal Stakes (4-Pack) a...\n",
       "Name: product_description, dtype: object"
      ]
     },
     "execution_count": 47,
     "metadata": {},
     "output_type": "execute_result"
    }
   ],
   "source": [
    "pro_des1 = pro_des.head(100)\n",
    "\n",
    "pro_des1[\"product_description\"].head(10)"
   ]
  },
  {
   "cell_type": "code",
   "execution_count": 48,
   "id": "b2cac219",
   "metadata": {},
   "outputs": [
    {
     "data": {
      "text/plain": [
       "<100x3416 sparse matrix of type '<class 'numpy.float64'>'\n",
       "\twith 7338 stored elements in Compressed Sparse Row format>"
      ]
     },
     "execution_count": 48,
     "metadata": {},
     "output_type": "execute_result"
    }
   ],
   "source": [
    "vect = TfidfVectorizer(stop_words='english')\n",
    "X_rat1 = vect.fit_transform(pro_des1[\"product_description\"])\n",
    "X_rat1"
   ]
  },
  {
   "cell_type": "code",
   "execution_count": 49,
   "id": "13e39185",
   "metadata": {},
   "outputs": [
    {
     "name": "stderr",
     "output_type": "stream",
     "text": [
      "/Users/sumitkumar/anaconda3/lib/python3.10/site-packages/sklearn/cluster/_kmeans.py:870: FutureWarning: The default value of `n_init` will change from 10 to 'auto' in 1.4. Set the value of `n_init` explicitly to suppress the warning\n",
      "  warnings.warn(\n"
     ]
    },
    {
     "data": {
      "image/png": "[encoded data removed]",
      "text/plain": [
       "<Figure size 640x480 with 1 Axes>"
      ]
     },
     "metadata": {},
     "output_type": "display_data"
    }
   ],
   "source": [
    "X_rat=X_rat1\n",
    "\n",
    "kmeans = KMeans(n_clusters = 10, init = 'k-means++')\n",
    "y_kmeans = kmeans.fit_predict(X_rat)\n",
    "plt.plot(y_kmeans, \".\")\n",
    "plt.show()"
   ]
  },
  {
   "cell_type": "code",
   "execution_count": 50,
   "id": "455d867a",
   "metadata": {},
   "outputs": [],
   "source": [
    "def write_cls(z):\n",
    "    print(\"Cluster %d:\" % z),\n",
    "    for index in order_centroids[z, :10]:\n",
    "        print(' %s' % terms[index]),\n",
    "    print"
   ]
  },
  {
   "cell_type": "code",
   "execution_count": 51,
   "id": "87b4b30a",
   "metadata": {},
   "outputs": [
    {
     "name": "stdout",
     "output_type": "stream",
     "text": [
      "Stack top at per terms:\n",
      "Cluster 0:\n",
      " head\n",
      " water\n",
      " spray\n",
      " watering\n",
      " screw\n",
      " metal\n",
      " sprinkler\n",
      " plastic\n",
      " adjustable\n",
      " heavy\n",
      "Cluster 1:\n",
      " post\n",
      " vinyl\n",
      " privacy\n",
      " cooking\n",
      " mount\n",
      " shades\n",
      " ladder\n",
      " fence\n",
      " wood\n",
      " model\n",
      "Cluster 2:\n",
      " concrete\n",
      " used\n",
      " applications\n",
      " product\n",
      " non\n",
      " mirror\n",
      " stake\n",
      " designed\n",
      " vary\n",
      " wood\n",
      "Cluster 3:\n",
      " frame\n",
      " grill\n",
      " wicker\n",
      " collection\n",
      " sturdy\n",
      " door\n",
      " dining\n",
      " weather\n",
      " patio\n",
      " step\n",
      "Cluster 4:\n",
      " water\n",
      " toilet\n",
      " solar\n",
      " design\n",
      " help\n",
      " efficiency\n",
      " high\n",
      " valve\n",
      " helps\n",
      " flush\n",
      "Cluster 5:\n",
      " insulation\n",
      " base\n",
      " paint\n",
      " primed\n",
      " ft\n",
      " radiant\n",
      " room\n",
      " mdf\n",
      " used\n",
      " install\n",
      "Cluster 6:\n",
      " storage\n",
      " wall\n",
      " door\n",
      " stakes\n",
      " metal\n",
      " shelves\n",
      " clock\n",
      " contemporary\n",
      " installation\n",
      " oven\n",
      "Cluster 7:\n",
      " tape\n",
      " sticks\n",
      " depot\n",
      " rope\n",
      " ul\n",
      " linkable\n",
      " vary\n",
      " mower\n",
      " loops\n",
      " pouch\n",
      "Cluster 8:\n",
      " shade\n",
      " bamboo\n",
      " pole\n",
      " canopy\n",
      " clip\n",
      " umbrella\n",
      " shades\n",
      " fencing\n",
      " natural\n",
      " 120\n",
      "Cluster 9:\n",
      " power\n",
      " led\n",
      " light\n",
      " unit\n",
      " fixtures\n",
      " air\n",
      " free\n",
      " tool\n",
      " cabinet\n",
      " plan\n"
     ]
    }
   ],
   "source": [
    "trueK = 10\n",
    "\n",
    "model = KMeans(n_clusters=trueK, init='k-means++', max_iter=100, n_init=1)\n",
    "model.fit(X_rat1)\n",
    "\n",
    "print(\"Stack top at per terms:\")\n",
    "order_centroids = model.cluster_centers_.argsort()[:, ::-1]\n",
    "terms = vect.get_feature_names_out()\n",
    "for i in range(trueK):\n",
    "    write_cls(i)"
   ]
  },
  {
   "cell_type": "code",
   "execution_count": 52,
   "id": "e93ddda1",
   "metadata": {},
   "outputs": [],
   "source": [
    "def show_rec(pro):\n",
    "    #print(\"Cluster ID:\")\n",
    "    Y = vect.transform([pro])\n",
    "    prediction = model.predict(Y)\n",
    "    #print(prediction)\n",
    "    write_cls(prediction[0])"
   ]
  },
  {
   "cell_type": "code",
   "execution_count": 53,
   "id": "4c23b56c",
   "metadata": {},
   "outputs": [
    {
     "name": "stdout",
     "output_type": "stream",
     "text": [
      "Cluster 9:\n",
      " power\n",
      " led\n",
      " light\n",
      " unit\n",
      " fixtures\n",
      " air\n",
      " free\n",
      " tool\n",
      " cabinet\n",
      " plan\n"
     ]
    }
   ],
   "source": [
    "show_rec(\"tool\")"
   ]
  },
  {
   "cell_type": "code",
   "execution_count": 54,
   "id": "dd12bab3",
   "metadata": {},
   "outputs": [
    {
     "name": "stdout",
     "output_type": "stream",
     "text": [
      "Cluster 4:\n",
      " water\n",
      " toilet\n",
      " solar\n",
      " design\n",
      " help\n",
      " efficiency\n",
      " high\n",
      " valve\n",
      " helps\n",
      " flush\n"
     ]
    }
   ],
   "source": [
    "show_rec(\"design\")"
   ]
  },
  {
   "cell_type": "code",
   "execution_count": 55,
   "id": "091e0f2a",
   "metadata": {},
   "outputs": [
    {
     "name": "stdout",
     "output_type": "stream",
     "text": [
      "Cluster 2:\n",
      " concrete\n",
      " used\n",
      " applications\n",
      " product\n",
      " non\n",
      " mirror\n",
      " stake\n",
      " designed\n",
      " vary\n",
      " wood\n"
     ]
    }
   ],
   "source": [
    "show_rec(\"screen\")"
   ]
  },
  {
   "cell_type": "code",
   "execution_count": 56,
   "id": "53590555",
   "metadata": {},
   "outputs": [
    {
     "name": "stdout",
     "output_type": "stream",
     "text": [
      "\u001b[H\u001b[2J"
     ]
    }
   ],
   "source": [
    "clear"
   ]
  },
  {
   "cell_type": "code",
   "execution_count": 57,
   "id": "e9d1d15c",
   "metadata": {},
   "outputs": [
    {
     "name": "stdout",
     "output_type": "stream",
     "text": [
      "Cluster 2:\n",
      " concrete\n",
      " used\n",
      " applications\n",
      " product\n",
      " non\n",
      " mirror\n",
      " stake\n",
      " designed\n",
      " vary\n",
      " wood\n"
     ]
    }
   ],
   "source": [
    "show_rec(\"spline\")"
   ]
  },
  {
   "cell_type": "code",
   "execution_count": null,
   "id": "3b6750c4",
   "metadata": {},
   "outputs": [],
   "source": []
  }
 ],
 "metadata": {
  "kernelspec": {
   "display_name": "Python 3 (ipykernel)",
   "language": "python",
   "name": "python3"
  },
  "language_info": {
   "codemirror_mode": {
    "name": "ipython",
    "version": 3
   },
   "file_extension": ".py",
   "mimetype": "text/x-python",
   "name": "python",
   "nbconvert_exporter": "python",
   "pygments_lexer": "ipython3",
   "version": "3.10.9"
  }
 },
 "nbformat": 4,
 "nbformat_minor": 5
}
